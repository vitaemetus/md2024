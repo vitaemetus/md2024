{
 "cells": [
  {
   "cell_type": "markdown",
   "metadata": {},
   "source": [
    "## Задание 2. Функция автокорреляции скорости"
   ]
  },
  {
   "cell_type": "code",
   "execution_count": 2,
   "metadata": {},
   "outputs": [],
   "source": [
    "import numpy as np\n",
    "import pandas as pd\n",
    "import matplotlib.pyplot as plt\n",
    "from collections import defaultdict"
   ]
  },
  {
   "cell_type": "markdown",
   "metadata": {},
   "source": [
    "Парсим `.xyz` файлы:"
   ]
  },
  {
   "cell_type": "code",
   "execution_count": 2,
   "metadata": {},
   "outputs": [],
   "source": [
    "paths = [f'dump_216_1.2/{i}.xyz' for i in np.arange(1000, 5000, 1)]\n",
    "number_of_particles = int(open(paths[0]).readline())\n",
    "box_size = float(open(paths[0]).readlines()[1].split()[1])\n",
    "\n",
    "xyz = [pd.DataFrame([line.split()\n",
    "                     for line in open(path).readlines()[2:]]).drop(labels=[0, 1, 2], axis=1)\n",
    "                     for path in paths]\n",
    "\n",
    "for df in xyz: df.columns = ['vx', 'vy', 'vz']"
   ]
  },
  {
   "cell_type": "markdown",
   "metadata": {},
   "source": [
    "Переформатируем их для более удобной обработки:"
   ]
  },
  {
   "cell_type": "code",
   "execution_count": 3,
   "metadata": {},
   "outputs": [],
   "source": [
    "vel = np.array([[xyz[frame].iloc[n].to_numpy().astype(float)\n",
    "                 for n in range(number_of_particles)]\n",
    "                 for frame in range(len(xyz))])"
   ]
  },
  {
   "cell_type": "markdown",
   "metadata": {},
   "source": [
    "Определим функцию для расчета `vacf` из массива скоростей"
   ]
  },
  {
   "cell_type": "code",
   "execution_count": 5,
   "metadata": {},
   "outputs": [],
   "source": [
    "def vacf(vel: np.array, len: int, step: int):\n",
    "    '''\n",
    "    vel -- массив скоростей. По оси 0 -- время, по оси 1 -- номер частицы\n",
    "    len -- число максимальное время, для которого считаем автокорреляцию\n",
    "\n",
    "    Если хотим усреднить vacf, можем посчитать его из разных начальных точек.\n",
    "    step -- время между двумя различными стартовыми точками\n",
    "    '''\n",
    "    velcor = np.zeros(len)\n",
    "    dot = np.zeros(vel.shape[1])\n",
    "    amp = np.zeros(vel.shape[1])\n",
    "\n",
    "    counter = 0\n",
    "    for start in np.arange(0, (vel.shape[0] - len), step):\n",
    "        for frame in range(len):\n",
    "            for n in range(vel.shape[1]):\n",
    "                dot[n] = np.dot(vel[start][n], vel[start + frame][n])\n",
    "                amp[n] = np.linalg.norm(np.array(vel[frame + start][n]))\n",
    "\n",
    "            velcor[frame] += np.mean(dot) / np.mean(amp*amp)\n",
    "        counter += 1\n",
    "    \n",
    "    velcor /= counter\n",
    "\n",
    "    return velcor"
   ]
  },
  {
   "cell_type": "code",
   "execution_count": 6,
   "metadata": {},
   "outputs": [],
   "source": [
    "len = 300\n",
    "step = 10\n",
    "x = np.arange(0, len)\n",
    "y = vacf(vel, len, step)"
   ]
  },
  {
   "cell_type": "markdown",
   "metadata": {},
   "source": [
    "Получили график `vacf` для температуры 1.0 и плотности 0.5:"
   ]
  },
  {
   "cell_type": "code",
   "execution_count": 11,
   "metadata": {},
   "outputs": [
    {
     "data": {
      "text/plain": [
       "<matplotlib.collections.LineCollection at 0x7fe114ea8c50>"
      ]
     },
     "execution_count": 11,
     "metadata": {},
     "output_type": "execute_result"
    },
    {
     "data": {
      "image/png": "[encoded data removed]",
      "text/plain": [
       "<Figure size 640x480 with 1 Axes>"
      ]
     },
     "metadata": {},
     "output_type": "display_data"
    }
   ],
   "source": [
    "plt.plot(x, y)\n",
    "plt.hlines(0, 0, 300, 'k')"
   ]
  }
 ],
 "metadata": {
  "kernelspec": {
   "display_name": "Python 3",
   "language": "python",
   "name": "python3"
  },
  "language_info": {
   "codemirror_mode": {
    "name": "ipython",
    "version": 3
   },
   "file_extension": ".py",
   "mimetype": "text/x-python",
   "name": "python",
   "nbconvert_exporter": "python",
   "pygments_lexer": "ipython3",
   "version": "3.11.7"
  }
 },
 "nbformat": 4,
 "nbformat_minor": 2
}
