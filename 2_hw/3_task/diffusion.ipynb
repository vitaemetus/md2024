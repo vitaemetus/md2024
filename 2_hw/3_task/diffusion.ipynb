{
 "cells": [
  {
   "cell_type": "markdown",
   "metadata": {},
   "source": [
    "# Задание 3. Диффузия"
   ]
  },
  {
   "cell_type": "code",
   "execution_count": 2,
   "metadata": {},
   "outputs": [],
   "source": [
    "import numpy as np\n",
    "import pandas as pd\n",
    "import matplotlib.pyplot as plt\n",
    "from collections import defaultdict"
   ]
  },
  {
   "cell_type": "markdown",
   "metadata": {},
   "source": [
    "## 3.1 Формула Грина-Кубо"
   ]
  },
  {
   "cell_type": "code",
   "execution_count": 42,
   "metadata": {},
   "outputs": [],
   "source": [
    "dt = 0.001"
   ]
  },
  {
   "cell_type": "code",
   "execution_count": 43,
   "metadata": {},
   "outputs": [],
   "source": [
    "def get_init(T: str):\n",
    "    path = f'dump_T{T}/0.xyz'\n",
    "    number_of_particles = int(open(path).readline())\n",
    "    box_size = float(open(path).readlines()[1].split()[1])\n",
    "    return number_of_particles, box_size"
   ]
  },
  {
   "cell_type": "code",
   "execution_count": 44,
   "metadata": {},
   "outputs": [],
   "source": [
    "def get_xyz(T: str, start_time: float, duration: float):\n",
    "    start_frame = start_time / dt\n",
    "    end_frame = (start_time + duration) / dt\n",
    "    paths = [f'dump_T{T}/{i}.xyz' for i in np.arange(start_frame, end_frame, 1).astype(int)]\n",
    "\n",
    "    xyz = [pd.DataFrame([line.split()\n",
    "                        for line in open(path).readlines()[2:]]).drop(labels=[0, 1, 2], axis=1)\n",
    "                        for path in paths]\n",
    "\n",
    "    for df in xyz: df.columns = ['vx', 'vy', 'vz']\n",
    "\n",
    "    return xyz"
   ]
  },
  {
   "cell_type": "code",
   "execution_count": 45,
   "metadata": {},
   "outputs": [],
   "source": [
    "def vacf(vel: np.array, duration: float, step: int):\n",
    "    len = int(duration / dt)\n",
    "    velcor = np.zeros(len)\n",
    "    dot = np.zeros(vel.shape[1])\n",
    "    amp = np.zeros(vel.shape[1])\n",
    "\n",
    "    counter = 0\n",
    "    for start in np.arange(0, (vel.shape[0] - len), step):\n",
    "        for frame in range(len):\n",
    "            for n in range(vel.shape[1]):\n",
    "                dot[n] = np.dot(vel[start][n], vel[start + frame][n])\n",
    "                amp[n] = np.linalg.norm(np.array(vel[frame + start][n]))\n",
    "\n",
    "            velcor[frame] += np.mean(dot) / np.mean(amp*amp)\n",
    "        counter += 1\n",
    "    \n",
    "    velcor /= counter\n",
    "\n",
    "    return velcor"
   ]
  },
  {
   "cell_type": "code",
   "execution_count": 46,
   "metadata": {},
   "outputs": [],
   "source": [
    "number_of_particles, box_size = get_init(1.0)"
   ]
  },
  {
   "cell_type": "code",
   "execution_count": 47,
   "metadata": {},
   "outputs": [],
   "source": [
    "T = [1.0, 1.5, 2.0]"
   ]
  },
  {
   "cell_type": "code",
   "execution_count": 48,
   "metadata": {},
   "outputs": [],
   "source": [
    "xyz = defaultdict(list)\n",
    "\n",
    "for t in T:\n",
    "    xyz[t] = (get_xyz(T=t, start_time=5.0, duration=5.0))"
   ]
  },
  {
   "cell_type": "code",
   "execution_count": 49,
   "metadata": {},
   "outputs": [],
   "source": [
    "vel = defaultdict(list)\n",
    "\n",
    "for t in T:\n",
    "    vel[t] = (np.array([[xyz[t][frame].iloc[n].to_numpy().astype(float)\n",
    "                            for n in range(number_of_particles)]\n",
    "                            for frame in range(len(xyz[t]))]))"
   ]
  },
  {
   "cell_type": "code",
   "execution_count": 66,
   "metadata": {},
   "outputs": [],
   "source": [
    "diffusion = defaultdict(float)\n",
    "vacf_duration = 4.00\n",
    "\n",
    "for t in T:\n",
    "    y = vacf(vel[t], duration=vacf_duration, step=100)\n",
    "    x = np.linspace(0, vacf_duration, int(vacf_duration/dt))\n",
    "    diffusion[t] = (t * np.trapz(y, x))"
   ]
  },
  {
   "cell_type": "code",
   "execution_count": 67,
   "metadata": {},
   "outputs": [
    {
     "data": {
      "text/plain": [
       "[<matplotlib.lines.Line2D at 0x7fc19b9f1e50>]"
      ]
     },
     "execution_count": 67,
     "metadata": {},
     "output_type": "execute_result"
    },
    {
     "data": {
      "image/png": "[encoded data removed]",
      "text/plain": [
       "<Figure size 640x480 with 1 Axes>"
      ]
     },
     "metadata": {},
     "output_type": "display_data"
    }
   ],
   "source": [
    "plt.plot(x, y)"
   ]
  },
  {
   "cell_type": "code",
   "execution_count": 69,
   "metadata": {},
   "outputs": [
    {
     "data": {
      "text/plain": [
       "defaultdict(float,\n",
       "            {1.0: 0.07273248689210832,\n",
       "             1.5: 0.12944522898347297,\n",
       "             2.0: 0.22953650444675366})"
      ]
     },
     "execution_count": 69,
     "metadata": {},
     "output_type": "execute_result"
    }
   ],
   "source": [
    "diffusion"
   ]
  },
  {
   "cell_type": "markdown",
   "metadata": {},
   "source": [
    "## 3.2 Формула Эйнштейна"
   ]
  },
  {
   "cell_type": "code",
   "execution_count": 52,
   "metadata": {},
   "outputs": [],
   "source": [
    "msd = defaultdict(list)\n",
    "\n",
    "for t in T:\n",
    "    path = f\"thermo{t}\"\n",
    "    msd[t] = np.array([open(path).readlines()[4:][i].split(' ')[9] for i in np.arange(5000, 10000)]).astype(float)"
   ]
  },
  {
   "cell_type": "code",
   "execution_count": 53,
   "metadata": {},
   "outputs": [
    {
     "data": {
      "text/plain": [
       "[<matplotlib.lines.Line2D at 0x7fc19b1a7810>]"
      ]
     },
     "execution_count": 53,
     "metadata": {},
     "output_type": "execute_result"
    },
    {
     "data": {
      "image/png": "[encoded data removed]",
      "text/plain": [
       "<Figure size 640x480 with 1 Axes>"
      ]
     },
     "metadata": {},
     "output_type": "display_data"
    }
   ],
   "source": [
    "plt.plot(np.linspace(0, 5.0, 5000), msd[1.5])"
   ]
  },
  {
   "cell_type": "code",
   "execution_count": 70,
   "metadata": {},
   "outputs": [
    {
     "data": {
      "text/plain": [
       "defaultdict(float,\n",
       "            {1.0: 0.10089475796611565,\n",
       "             1.5: 0.14210635247907707,\n",
       "             2.0: 0.16771372762635187})"
      ]
     },
     "execution_count": 70,
     "metadata": {},
     "output_type": "execute_result"
    }
   ],
   "source": [
    "x = np.linspace(0, 5.0, 5000)\n",
    "\n",
    "diffusion_einstein = defaultdict(float)\n",
    "\n",
    "for t in T:\n",
    "    diffusion_einstein[t] = np.polyfit(x, msd[t], 1)[0] / 6\n",
    "\n",
    "diffusion_einstein"
   ]
  },
  {
   "cell_type": "markdown",
   "metadata": {},
   "source": [
    "## 3. Сравнение"
   ]
  },
  {
   "cell_type": "code",
   "execution_count": 73,
   "metadata": {},
   "outputs": [],
   "source": [
    "diffusion_target = [0.105, 0.156, 0.217]"
   ]
  },
  {
   "cell_type": "code",
   "execution_count": 96,
   "metadata": {},
   "outputs": [
    {
     "data": {
      "text/html": [
       "<div>\n",
       "<style scoped>\n",
       "    .dataframe tbody tr th:only-of-type {\n",
       "        vertical-align: middle;\n",
       "    }\n",
       "\n",
       "    .dataframe tbody tr th {\n",
       "        vertical-align: top;\n",
       "    }\n",
       "\n",
       "    .dataframe thead th {\n",
       "        text-align: right;\n",
       "    }\n",
       "</style>\n",
       "<table border=\"1\" class=\"dataframe\">\n",
       "  <thead>\n",
       "    <tr style=\"text-align: right;\">\n",
       "      <th></th>\n",
       "      <th>Грин-Кубо</th>\n",
       "      <th>Эйнштейн</th>\n",
       "      <th>Rowley and Painter</th>\n",
       "    </tr>\n",
       "  </thead>\n",
       "  <tbody>\n",
       "    <tr>\n",
       "      <th>1.0</th>\n",
       "      <td>0.073</td>\n",
       "      <td>0.101</td>\n",
       "      <td>0.105</td>\n",
       "    </tr>\n",
       "    <tr>\n",
       "      <th>1.5</th>\n",
       "      <td>0.129</td>\n",
       "      <td>0.142</td>\n",
       "      <td>0.156</td>\n",
       "    </tr>\n",
       "    <tr>\n",
       "      <th>2.0</th>\n",
       "      <td>0.230</td>\n",
       "      <td>0.168</td>\n",
       "      <td>0.217</td>\n",
       "    </tr>\n",
       "  </tbody>\n",
       "</table>\n",
       "</div>"
      ],
      "text/plain": [
       "     Грин-Кубо  Эйнштейн  Rowley and Painter\n",
       "1.0      0.073     0.101               0.105\n",
       "1.5      0.129     0.142               0.156\n",
       "2.0      0.230     0.168               0.217"
      ]
     },
     "execution_count": 96,
     "metadata": {},
     "output_type": "execute_result"
    }
   ],
   "source": [
    "pd.DataFrame(columns=[\"Грин-Кубо\", \"Эйнштейн\", \"Rowley and Painter\"], index=[1.0, 1.5, 2.0],\n",
    "             data = np.array([list(diffusion.values()), list(diffusion_einstein.values()), list(diffusion_target)]).T.round(3))"
   ]
  }
 ],
 "metadata": {
  "kernelspec": {
   "display_name": "molecule",
   "language": "python",
   "name": "python3"
  },
  "language_info": {
   "codemirror_mode": {
    "name": "ipython",
    "version": 3
   },
   "file_extension": ".py",
   "mimetype": "text/x-python",
   "name": "python",
   "nbconvert_exporter": "python",
   "pygments_lexer": "ipython3",
   "version": "3.11.7"
  }
 },
 "nbformat": 4,
 "nbformat_minor": 2
}
